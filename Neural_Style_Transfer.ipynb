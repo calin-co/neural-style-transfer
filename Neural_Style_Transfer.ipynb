{
  "nbformat": 4,
  "nbformat_minor": 0,
  "metadata": {
    "colab": {
      "name": "4_Neural_Style_Transfer.ipynb",
      "version": "0.3.2",
      "provenance": [],
      "private_outputs": true,
      "collapsed_sections": [],
      "toc_visible": true
    },
    "kernelspec": {
      "name": "python3",
      "display_name": "Python 3"
    },
    "accelerator": "GPU"
  },
  "cells": [
    {
      "metadata": {
        "id": "KWBOCsqI2ZeX",
        "colab_type": "code",
        "colab": {}
      },
      "cell_type": "code",
      "source": [
        "STYLE_IMG_PATH = \"content/Tuebingen_Neckarfront.jpg\"\n",
        "CONTENT_IMG_PATH = \"content/Vassily_Kandinsky,_1913_-_Composition_7.jpg\""
      ],
      "execution_count": 0,
      "outputs": []
    },
    {
      "metadata": {
        "colab_type": "code",
        "id": "sc1OLbOWhPCO",
        "colab": {}
      },
      "cell_type": "code",
      "source": [
        "import matplotlib.pyplot as plt\n",
        "import matplotlib as mpl\n",
        "mpl.rcParams['figure.figsize'] = (10,10)\n",
        "mpl.rcParams['axes.grid'] = False\n",
        "\n",
        "import numpy as np\n",
        "from PIL import Image\n",
        "import time\n",
        "import functools\n",
        "import IPython.display"
      ],
      "execution_count": 0,
      "outputs": []
    },
    {
      "metadata": {
        "colab_type": "code",
        "id": "RYEjlrYk3s6w",
        "colab": {}
      },
      "cell_type": "code",
      "source": [
        "import tensorflow as tf\n",
        "import tensorflow.contrib.eager as tfe\n",
        "\n",
        "from tensorflow.python.keras.preprocessing import image as kp_image\n",
        "from tensorflow.python.keras import models \n",
        "from tensorflow.python.keras import losses\n",
        "from tensorflow.python.keras import layers\n",
        "from tensorflow.python.keras import backend as K"
      ],
      "execution_count": 0,
      "outputs": []
    },
    {
      "metadata": {
        "colab_type": "code",
        "id": "sfjsSAtNrqQx",
        "colab": {}
      },
      "cell_type": "code",
      "source": [
        "tf.enable_eager_execution()\n",
        "print(\"Eager execution: {}\".format(tf.executing_eagerly()))"
      ],
      "execution_count": 0,
      "outputs": []
    },
    {
      "metadata": {
        "colab_type": "code",
        "id": "IOiGrIV1iERH",
        "colab": {}
      },
      "cell_type": "code",
      "source": [
        "# Set up some global values here\n",
        "style_path = \"/\" + STYLE_IMG_PATH\n",
        "content_path = \"/\" + CONTENT_IMG_PATH"
      ],
      "execution_count": 0,
      "outputs": []
    },
    {
      "metadata": {
        "colab_type": "text",
        "id": "xE4Yt8nArTeR"
      },
      "cell_type": "markdown",
      "source": [
        "## Visualize the input"
      ]
    },
    {
      "metadata": {
        "colab_type": "code",
        "id": "3TLljcwv5qZs",
        "colab": {}
      },
      "cell_type": "code",
      "source": [
        "def load_img(path_to_img):\n",
        "  max_dim = 512\n",
        "  img = Image.open(path_to_img)\n",
        "  long = max(img.size)\n",
        "  scale = max_dim/long\n",
        "  img = img.resize((round(img.size[0]*scale), round(img.size[1]*scale)), Image.ANTIALIAS)\n",
        "  \n",
        "  img = kp_image.img_to_array(img)\n",
        "  \n",
        "  # We need to broadcast the image array such that it has a batch dimension \n",
        "  img = np.expand_dims(img, axis=0)\n",
        "  return img"
      ],
      "execution_count": 0,
      "outputs": []
    },
    {
      "metadata": {
        "colab_type": "code",
        "id": "vupl0CI18aAG",
        "colab": {}
      },
      "cell_type": "code",
      "source": [
        "def imshow(img, title=None):\n",
        "  # Remove the batch dimension\n",
        "  out = np.squeeze(img, axis=0)\n",
        "  # Normalize for display \n",
        "  out = out.astype('uint8')\n",
        "  plt.imshow(out)\n",
        "  if title is not None:\n",
        "    plt.title(title)\n",
        "  plt.imshow(out)"
      ],
      "execution_count": 0,
      "outputs": []
    },
    {
      "metadata": {
        "colab_type": "text",
        "id": "2yAlRzJZrWM3"
      },
      "cell_type": "markdown",
      "source": [
        "These are input content and style images. We hope to \"create\" an image with the content of our content image, but with the style of the style image. "
      ]
    },
    {
      "metadata": {
        "colab_type": "code",
        "id": "_UWQmeEaiKkP",
        "colab": {}
      },
      "cell_type": "code",
      "source": [
        "plt.figure(figsize=(10,10))\n",
        "\n",
        "content = load_img(content_path).astype('uint8')\n",
        "style = load_img(style_path).astype('uint8')\n",
        "\n",
        "plt.subplot(1, 2, 1)\n",
        "imshow(content, 'Content Image')\n",
        "print(content.shape)\n",
        "plt.subplot(1, 2, 2)\n",
        "imshow(style, 'Style Image')\n",
        "plt.show()"
      ],
      "execution_count": 0,
      "outputs": []
    },
    {
      "metadata": {
        "colab_type": "code",
        "id": "hGwmTwJNmv2a",
        "colab": {}
      },
      "cell_type": "code",
      "source": [
        "def load_and_process_img(path_to_img):\n",
        "  img = load_img(path_to_img)\n",
        "  img = tf.keras.applications.vgg19.preprocess_input(img)\n",
        "  return img"
      ],
      "execution_count": 0,
      "outputs": []
    },
    {
      "metadata": {
        "colab_type": "code",
        "id": "mjzlKRQRs_y2",
        "colab": {}
      },
      "cell_type": "code",
      "source": [
        "def deprocess_img(processed_img):\n",
        "  x = processed_img.copy()\n",
        "  if len(x.shape) == 4:\n",
        "    x = np.squeeze(x, 0)\n",
        "  assert len(x.shape) == 3, (\"Input to deprocess image must be an image of \"\n",
        "                             \"dimension [1, height, width, channel] or [height, width, channel]\")\n",
        "  if len(x.shape) != 3:\n",
        "    raise ValueError(\"Invalid input to deprocessing image\")\n",
        "  \n",
        "  # perform the inverse of the preprocessiing step\n",
        "  x[:, :, 0] += 103.939\n",
        "  x[:, :, 1] += 116.779\n",
        "  x[:, :, 2] += 123.68\n",
        "  x = x[:, :, ::-1]\n",
        "\n",
        "  x = np.clip(x, 0, 255).astype('uint8')\n",
        "  return x"
      ],
      "execution_count": 0,
      "outputs": []
    },
    {
      "metadata": {
        "colab_type": "code",
        "id": "N4-8eUp_Kc-j",
        "colab": {}
      },
      "cell_type": "code",
      "source": [
        "# Content layer where will pull our feature maps\n",
        "content_layers = ['block5_conv2'] \n",
        "\n",
        "# Style layer we are interested in\n",
        "style_layers = ['block1_conv1',\n",
        "                'block2_conv1',\n",
        "                'block3_conv1', \n",
        "                'block4_conv1', \n",
        "                'block5_conv1'\n",
        "               ]\n",
        "\n",
        "num_content_layers = len(content_layers)\n",
        "num_style_layers = len(style_layers)"
      ],
      "execution_count": 0,
      "outputs": []
    },
    {
      "metadata": {
        "id": "sEtLfoCCF8uc",
        "colab_type": "code",
        "colab": {}
      },
      "cell_type": "code",
      "source": [
        "def get_model(content_layers=content_layers, style_layers=style_layers):\n",
        "    vgg = tf.keras.applications.vgg19.VGG19(include_top=False, weights='imagenet')\n",
        "    vgg.trainable = False\n",
        "    \n",
        "    content_outputs = [vgg.get_layer(name).output for name in content_layers]\n",
        "    style_outputs = [vgg.get_layer(name).output for name in style_layers]\n",
        "    # Get output layers corresponding to style and content layers\n",
        "    model_outputs = content_outputs + style_outputs\n",
        "    # Build model \n",
        "    return models.Model(vgg.input, model_outputs)"
      ],
      "execution_count": 0,
      "outputs": []
    },
    {
      "metadata": {
        "id": "1vFtI_ZKF8tW",
        "colab_type": "code",
        "colab": {}
      },
      "cell_type": "code",
      "source": [
        "model = get_model()\n",
        "content_processed = load_and_process_img(content_path)"
      ],
      "execution_count": 0,
      "outputs": []
    },
    {
      "metadata": {
        "id": "nkK8L9woF8tr",
        "colab_type": "code",
        "colab": {}
      },
      "cell_type": "code",
      "source": [
        "ENABLE_TESTING = False"
      ],
      "execution_count": 0,
      "outputs": []
    },
    {
      "metadata": {
        "id": "ZP8QJWIRF8t_",
        "colab_type": "code",
        "colab": {}
      },
      "cell_type": "code",
      "source": [
        "def get_gram_matrix(input_tensor):\n",
        "    num_filters = input_tensor.shape[-1] \n",
        "    reshaped_tensor = tf.reshape(input_tensor, (-1, num_filters))\n",
        "    \n",
        "    gram_matrix = tf.matmul(reshaped_tensor, reshaped_tensor, transpose_a=True)\n",
        "    return gram_matrix\n",
        "\n",
        "def get_content_loss(base_content, target):\n",
        "    return tf.reduce_mean(tf.square(base_content - target))\n",
        "\n",
        "def get_style_loss(base_style, gram_target):\n",
        "    _, height, width, channels = base_style.get_shape().as_list()\n",
        "    gram_style = get_gram_matrix(base_style)\n",
        "    norm_term = tfe.Variable( 1.0 / (4. * (channels ** 2) * (width * height) ** 2), dtype='float32')\n",
        "    return tf.multiply(tf.reduce_sum(tf.square(gram_style - gram_target)), norm_term)\n",
        "\n",
        "        \n",
        "if ENABLE_TESTING:\n",
        "    x = np.array([1,1])\n",
        "    y = np.array([0,10])\n",
        "    with tf.GradientTape() as tape:\n",
        "        print(\"content loss: \", get_content_loss(x,y))\n",
        "    \n",
        "    # gram\n",
        "    tensor = np.array([[1, 1, 1], [2, 2, 2]], dtype='float32')\n",
        "    tensor = tf.reshape(tensor, [1,3,1,2])\n",
        "    print(\"reshaped tensor: \", tensor)\n",
        "    gram_matrix = get_gram_matrix(tensor)\n",
        "    print(\"gram matrix: \", gram_matrix)\n",
        "    \n",
        "    #style loss\n",
        "    base_style = tensor\n",
        "    with tf.GradientTape() as tape:\n",
        "        target_gram = get_gram_matrix(tensor)\n",
        "        style_loss = get_style_loss(base_style, target_gram)\n",
        "        print(\"style loss: \", style_loss)\n",
        "    "
      ],
      "execution_count": 0,
      "outputs": []
    },
    {
      "metadata": {
        "id": "7Oh9eDJUF8uX",
        "colab_type": "code",
        "colab": {}
      },
      "cell_type": "code",
      "source": [
        "def get_feature_representations(model, content_path, style_path, num_style_layers):\n",
        "  \"\"\"Helper function to compute our content and style feature representations.\n",
        "\n",
        "  This function will simply load and preprocess both the content and style \n",
        "  images from their path. Then it will feed them through the network to obtain\n",
        "  the outputs of the intermediate layers. \n",
        "  \n",
        "  Arguments:\n",
        "    model: The model that we are using.\n",
        "    content_path: The path to the content image.\n",
        "    style_path: The path to the style image\n",
        "    \n",
        "  Returns:\n",
        "    returns the style features and the content features. \n",
        "  \"\"\"\n",
        "  # Load our images in \n",
        "  content_image = load_and_process_img(content_path)\n",
        "  style_image = load_and_process_img(style_path)\n",
        "  \n",
        "  # batch compute content and style features\n",
        "  style_outputs = model(style_image)\n",
        "  content_outputs = model(content_image)\n",
        "  \n",
        "  \n",
        "  # Get the style and content feature representations from our model  \n",
        "  style_features = [style_layer[0] for style_layer in style_outputs[:num_style_layers]]\n",
        "  content_features = [content_layer[0] for content_layer in content_outputs[num_style_layers:]]\n",
        "  return style_features, content_features"
      ],
      "execution_count": 0,
      "outputs": []
    },
    {
      "metadata": {
        "id": "3OTJRFkEF8uh",
        "colab_type": "code",
        "colab": {}
      },
      "cell_type": "code",
      "source": [
        "def get_total_loss(model, num_style_layers, num_content_layers,\n",
        "                   loss_weights, init_image, gram_targets, content_targets):\n",
        "    \n",
        "    \n",
        "    content_weight, style_weight = loss_weights\n",
        "    \n",
        "    model_outputs = model(init_image)\n",
        "\n",
        "    style_output_features = model_outputs[:num_style_layers]\n",
        "    content_output_features = model_outputs[num_style_layers:]\n",
        "    \n",
        "    weight_per_style_layer = 1.0 / float(num_style_layers)\n",
        "    weight_per_content_layer = 1.0 / float(num_content_layers)\n",
        "    style_score, content_score = 0, 0\n",
        "    \n",
        "    for gram_target, style_feature in zip(gram_targets, style_output_features):\n",
        "        style_score = weight_per_style_layer * get_style_loss(style_feature, gram_target)\n",
        "        \n",
        "    for content_target, content_feature in zip(content_targets, content_output_features):\n",
        "        content_score += weight_per_content_layer * get_content_loss(content_feature, content_target)\n",
        "\n",
        "    content_loss = content_weight * content_score \n",
        "    style_loss = style_weight * style_score\n",
        "    \n",
        "    total_loss = content_loss + style_loss\n",
        "    return total_loss, content_loss, style_loss\n",
        "\n",
        "def compute_grads(cfg):\n",
        "    with tf.GradientTape() as tape:\n",
        "        all_loss = get_total_loss(**cfg)\n",
        "        \n",
        "    total_loss = all_loss[0]\n",
        "    return tape.gradient(total_loss, cfg['init_image']), all_loss"
      ],
      "execution_count": 0,
      "outputs": []
    },
    {
      "metadata": {
        "id": "WPwlJR1sF8um",
        "colab_type": "code",
        "colab": {}
      },
      "cell_type": "code",
      "source": [
        "def run_style_transfer(content_path, style_path, num_iterations, content_layers, \n",
        "                       style_layers, init_image=None, \n",
        "                       style_weight=10e-2, content_weight=1e3):\n",
        "    ''' returns a list of tuples of images and their losses\n",
        "    obtained during style transfer'''\n",
        "        \n",
        "    model = get_model()\n",
        "    \n",
        "    for layer in model.layers:\n",
        "        layer.trainable = False\n",
        "    \n",
        "    content_img = load_and_process_img(content_path)\n",
        "    style_img = load_and_process_img(style_path)\n",
        "    \n",
        "    if init_image == None:\n",
        "        init_image = content_img\n",
        "    init_image = tfe.Variable(init_image)\n",
        "    \n",
        "    style_features, content_features = get_feature_representations(model, content_path, style_path, len(style_layers)) # TO DO\n",
        "    print(style_features[0].shape)\n",
        "    gram_targets = [get_gram_matrix(style_feat) for style_feat in style_features]\n",
        "    content_targets = content_features\n",
        "    \n",
        "    # Create our optimizer\n",
        "    opt = tf.train.AdamOptimizer(learning_rate=5, beta1=0.99, epsilon=1e-1)\n",
        "    \n",
        "    loss_weights = (content_weight, style_weight)\n",
        "    cfg = {\n",
        "        'model': model,\n",
        "        'num_style_layers': len(style_layers),\n",
        "        'num_content_layers': len(content_layers),\n",
        "        'loss_weights': loss_weights,\n",
        "        'init_image': init_image, # not sure if it will work \n",
        "        'gram_targets': gram_targets,\n",
        "        'content_targets': content_targets\n",
        "    }\n",
        "    \n",
        "    # For displaying intermediate images \n",
        "    iter_count = 1\n",
        "\n",
        "    # Store our best result\n",
        "    best_loss, best_img = float('inf'), None\n",
        "    \n",
        "    num_rows = 2\n",
        "    num_cols = 5\n",
        "    display_interval = int(num_iterations/(num_rows*num_cols))\n",
        "    start_time = time.time()\n",
        "    global_start = time.time()\n",
        "\n",
        "    norm_means = np.array([103.939, 116.779, 123.68])\n",
        "    min_vals = -norm_means\n",
        "    max_vals = 255 - norm_means   \n",
        "\n",
        "    imgs = []\n",
        "\n",
        "    for i in range(num_iterations):\n",
        "      #print(i, display_interval)\n",
        "      grads, all_loss = compute_grads(cfg) # TO DO\n",
        "      loss, content_loss, style_loss = all_loss\n",
        "      opt.apply_gradients([(grads, init_image)])\n",
        "      clipped = tf.clip_by_value(init_image, min_vals, max_vals)\n",
        "      init_image.assign(clipped)\n",
        "\n",
        "      end_time = time.time() \n",
        "\n",
        "      if loss < best_loss:\n",
        "        # Update best loss and best image from total loss. \n",
        "        best_loss = loss\n",
        "        best_img = deprocess_img(init_image.numpy())\n",
        "\n",
        "      if i % display_interval== 0:\n",
        "        start_time = time.time()\n",
        "\n",
        "        # Use the .numpy() method to get the concrete numpy array\n",
        "        plot_img = init_image.numpy()\n",
        "        plot_img = deprocess_img(plot_img)\n",
        "        imgs.append(plot_img)\n",
        "        IPython.display.clear_output(wait=True)\n",
        "        IPython.display.display_png(Image.fromarray(plot_img))\n",
        "        print('Iteration: {}'.format(i))        \n",
        "        print('Total loss: {:.4e}, ' \n",
        "              'style loss: {:.4e}, '\n",
        "              'content loss: {:.4e}, '\n",
        "              'time: {:.4f}s'.format(loss, style_loss, content_loss, time.time() - start_time))\n",
        "    \n",
        "    print('Total time: {:.4f}s'.format(time.time() - global_start))\n",
        "    IPython.display.clear_output(wait=True)\n",
        "    plt.figure(figsize=(14,4))\n",
        "    for i,img in enumerate(imgs):\n",
        "      plt.subplot(num_rows,num_cols,i+1)\n",
        "      plt.imshow(img)\n",
        "      plt.xticks([])\n",
        "      plt.yticks([])\n",
        "\n",
        "    return best_img, best_loss \n",
        "    \n",
        "    \n",
        "    \n",
        "    \n",
        "    "
      ],
      "execution_count": 0,
      "outputs": []
    },
    {
      "metadata": {
        "id": "rHKyeRG7F8u0",
        "colab_type": "code",
        "colab": {}
      },
      "cell_type": "code",
      "source": [
        "best_img, _ = run_style_transfer(content_path, style_path, 1000, content_layers, style_layers)"
      ],
      "execution_count": 0,
      "outputs": []
    },
    {
      "metadata": {
        "colab_type": "code",
        "id": "lqTQN1PjulV9",
        "colab": {}
      },
      "cell_type": "code",
      "source": [
        "def show_results(best_img, content_path, style_path, show_large_final=True):\n",
        "  plt.figure(figsize=(10, 5))\n",
        "  content = load_img(content_path) \n",
        "  style = load_img(style_path)\n",
        "\n",
        "  plt.subplot(1, 2, 1)\n",
        "  imshow(content, 'Content Image')\n",
        "\n",
        "  plt.subplot(1, 2, 2)\n",
        "  imshow(style, 'Style Image')\n",
        "\n",
        "  if show_large_final: \n",
        "    plt.figure(figsize=(10, 10))\n",
        "    plt.imshow(best_img)\n",
        "    plt.title('Output Image')\n",
        "    plt.show()"
      ],
      "execution_count": 0,
      "outputs": []
    },
    {
      "metadata": {
        "colab_type": "code",
        "id": "i6d6O50Yvs6a",
        "colab": {}
      },
      "cell_type": "code",
      "source": [
        "show_results(best, content_path, style_path)"
      ],
      "execution_count": 0,
      "outputs": []
    }
  ]
}